{
 "cells": [
  {
   "cell_type": "code",
   "execution_count": 81,
   "metadata": {},
   "outputs": [
    {
     "name": "stdout",
     "output_type": "stream",
     "text": [
      "Your identity: vasileios.skliris@LIGO.ORG\n",
      "\n",
      "Creating proxy .................................... Done\n",
      "Your proxy is valid until: Mar 20 04:00:26 2019 GMT\n"
     ]
    }
   ],
   "source": [
    "# LOG IN WITH YOUR LIGO CREDENTIALS\n",
    "from gwpy.io.kerberos import kinit\n",
    "kinit(keytab= '../vasileios.skliris.keytab' )\n",
    "!ligo-proxy-init -k\n",
    "\n"
   ]
  },
  {
   "cell_type": "code",
   "execution_count": 82,
   "metadata": {},
   "outputs": [],
   "source": [
    "import matplotlib.pyplot as plt\n",
    "import numpy as np\n",
    "from gwpy.timeseries import TimeSeries\n",
    "#from gwpy.plotter import TimeSeriesPlot\n",
    "from gwpy.segments import DataQualityFlag\n",
    "from gwpy.segments import Segment\n",
    "from gwpy.time import to_gps\n",
    "from gwpy.time import from_gps\n",
    "from dqsegdb2.query import query_segments\n",
    "import os\n"
   ]
  },
  {
   "cell_type": "code",
   "execution_count": 83,
   "metadata": {},
   "outputs": [
    {
     "name": "stdout",
     "output_type": "stream",
     "text": [
      "There are  3  segments of simultaneous GPS time, with total duration of 24170.0  seconds,  6.713888888888889 hours\n",
      "More specifically:\n",
      "Segment No:0 Time: 1185248312.0 to 1185252003.0 Duration: 3691.0\n",
      "Segment No:1 Time: 1185286802.0 to 1185295603.0 Duration: 8801.0\n",
      "Segment No:2 Time: 1185295624.0 to 1185307302.0 Duration: 11678.0\n"
     ]
    }
   ],
   "source": [
    "#to_gps('Sep 14 2015 09:50:45.391')\n",
    "\n",
    "day='Jul 28 2017'\n",
    "\n",
    "gps_s = to_gps(day) #SEARCH FOR A SPECIFIC DAY\n",
    "gps_e = gps_s+24*3600     \n",
    "GPS = [gps_s, gps_e]\n",
    "\n",
    "\n",
    "H1_ready=query_segments('H1:DMT-ANALYSIS_READY:1', GPS[0],GPS[1])#, url='http://segments.ldas.cit')\n",
    "L1_ready=query_segments('L1:DMT-ANALYSIS_READY:1', GPS[0],GPS[1])#, url='http://segments.ldas.cit')\n",
    "V1_ready=query_segments('V1:ITF_SCIENCE:1', GPS[0],GPS[1])#, url='http://segments.ldas.cit')\n",
    "\n",
    "\n",
    "# PRINT ALL THE SEGMENTS THAT ARE SIMULTANIUS ON 3 DETECTORS\n",
    "\n",
    "sim_seg = H1_ready['active'] & L1_ready['active'] & V1_ready['active']\n",
    "if sim_seg==[]:\n",
    "    print('No simultaneous GPS time, sorry ...')\n",
    "else:\n",
    "    seg_time=[]      #DURATION OF EVERY SEGMENT\n",
    "    sim_time_total=0 #SIMULTANIOUS TIME\n",
    "    seg_no=0         #NUMBER OF SEGMENTS\n",
    "    for seg in sim_seg:\n",
    "        seg_time.append([seg[0],seg[1]])\n",
    "        sim_time_total+=(seg[1]-seg[0])\n",
    "        seg_no+=1\n",
    "    print('There are ',seg_no,' segments of simultaneous GPS time, with total duration of',sim_time_total,' seconds, ',sim_time_total/3600,'hours')\n",
    "    print('More specifically:')\n",
    "    for i in range(0,len(sim_seg)):\n",
    "        print('Segment No:'+str(i)+' Time: '+str(sim_seg[i][0])+' to '+str(sim_seg[i][1])+' Duration: '+str(sim_seg[i][1]-sim_seg[i][0]))    \n",
    "        \n",
    "        "
   ]
  },
  {
   "cell_type": "code",
   "execution_count": 84,
   "metadata": {},
   "outputs": [
    {
     "name": "stdout",
     "output_type": "stream",
     "text": [
      "20170728\n"
     ]
    }
   ],
   "source": [
    "#MAKE A DIRECTORY TO STORE THE FILES IF IT DOESN'T ALREADY EXIST \n",
    "DATE='20170728'\n",
    "FS='2048'\n",
    "file_name=DATE\n",
    "print(file_name)\n",
    "\n",
    "os.mkdir('/home/vasileios.skliris/EMILY/ligo_data/'+FS+'/'+file_name)\n",
    "os.mkdir('/home/vasileios.skliris/EMILY/ligo_data/'+FS+'/'+file_name+'/H')\n",
    "os.mkdir('/home/vasileios.skliris/EMILY/ligo_data/'+FS+'/'+file_name+'/L')\n",
    "os.mkdir('/home/vasileios.skliris/EMILY/ligo_data/'+FS+'/'+file_name+'/V')\n"
   ]
  },
  {
   "cell_type": "code",
   "execution_count": 85,
   "metadata": {
    "scrolled": true
   },
   "outputs": [
    {
     "name": "stdout",
     "output_type": "stream",
     "text": [
      "Attempting to access data from frames...\n",
      "\n",
      "Reading H1_HOFT_C00 frames: |          | 0/2 (  0%) ETA ?     \u001b[A\n",
      "Reading H1_HOFT_C00 frames: |          | 0/2 (  0%) ETA ?     \u001b[A"
     ]
    },
    {
     "name": "stderr",
     "output_type": "stream",
     "text": [
      "no GWF API available, please install a third-party GWF library (framecpp, lalframe) and try again\n"
     ]
    },
    {
     "name": "stdout",
     "output_type": "stream",
     "text": [
      "Failed to access data from frames, trying NDS...\n",
      "\n",
      "Reading H1_HOFT_C00 frames: |█████     | 1/2 ( 50%) ETA 00:00 \u001b[AOpening new connection to 10.21.2.4... connected\n",
      "    [10.21.2.4] set ALLOW_DATA_ON_TAPE='False'\n",
      "Checking channels list against NDS2 database... done\n",
      "\n",
      "Downloading data: |          | 0/3691.0 (  0%) ETA ?     \u001b[A\n",
      "Downloading data: |          | 0/3691.0 (  0%) ETA ?     \u001b[A\n",
      "Downloading data: |██████████| 3691.0/3691.0 (100%) ETA 00:00 \u001b[AAttempting to access data from frames...\n",
      "\n",
      "Reading L1_HOFT_C00 frames: |          | 0/2 (  0%) ETA ?     \u001b[A\n",
      "Reading L1_HOFT_C00 frames: |          | 0/2 (  0%) ETA ?     \u001b[A"
     ]
    },
    {
     "name": "stderr",
     "output_type": "stream",
     "text": [
      "no GWF API available, please install a third-party GWF library (framecpp, lalframe) and try again\n"
     ]
    },
    {
     "name": "stdout",
     "output_type": "stream",
     "text": [
      "Failed to access data from frames, trying NDS...\n",
      "\n",
      "Reading L1_HOFT_C00 frames: |█████     | 1/2 ( 50%) ETA 00:00 \u001b[AOpening new connection to 10.21.2.4... connected\n",
      "    [10.21.2.4] set ALLOW_DATA_ON_TAPE='False'\n",
      "Checking channels list against NDS2 database... Opening new connection to nds.ligo.caltech.edu... "
     ]
    },
    {
     "name": "stderr",
     "output_type": "stream",
     "text": [
      "/home/vasileios.skliris/.conda/envs/conda_env/lib/python3.6/site-packages/gwpy/timeseries/core.py:1114: NDSWarning: unique NDS2 channel match not found for 'L1:GDS-CALIB_STRAIN'\n",
      "  io_nds2.NDSWarning)\n"
     ]
    },
    {
     "name": "stdout",
     "output_type": "stream",
     "text": [
      "connected\n",
      "    [nds.ligo.caltech.edu] set ALLOW_DATA_ON_TAPE='False'\n",
      "Checking channels list against NDS2 database... done\n",
      "\n",
      "Downloading data: |          | 0/3691.0 (  0%) ETA ?     \u001b[A\n",
      "Downloading data: |          | 0/3691.0 (  0%) ETA ?     \u001b[A\n",
      "Downloading data: |██████████| 3691.0/3691.0 (100%) ETA 00:00 \u001b[AAttempting to access data from frames...\n",
      "\n",
      "Reading V1Online frames: |          | 0/3 (  0%) ETA ?     \u001b[A\n",
      "Reading V1Online frames: |          | 0/3 (  0%) ETA ?     \u001b[A"
     ]
    },
    {
     "name": "stderr",
     "output_type": "stream",
     "text": [
      "no GWF API available, please install a third-party GWF library (framecpp, lalframe) and try again\n"
     ]
    },
    {
     "name": "stdout",
     "output_type": "stream",
     "text": [
      "Failed to access data from frames, trying NDS...\n",
      "\n",
      "Reading V1Online frames: |███▎      | 1/3 ( 33%) ETA 00:00 \u001b[AOpening new connection to 10.21.2.4... connected\n",
      "    [10.21.2.4] set ALLOW_DATA_ON_TAPE='False'\n",
      "Checking channels list against NDS2 database... done\n",
      "\n",
      "Downloading data: |          | 0/3691.0 (  0%) ETA ?     \u001b[A\n",
      "Downloading data: |          | 0/3691.0 (  0%) ETA ?     \u001b[A\n",
      "Downloading data: |██████████| 3691.0/3691.0 (100%) ETA 00:00 \u001b[AFile SEG0_1185248312_3691s.txt is successfully saved\n",
      "File SEG0_1185248312_3691s.txt is successfully saved\n",
      "File SEG0_1185248312_3691s.txt is successfully saved\n",
      "Attempting to access data from frames...\n",
      "\n",
      "Reading H1_HOFT_C00 frames: |          | 0/3 (  0%) ETA ?     \u001b[A\n",
      "Reading H1_HOFT_C00 frames: |          | 0/3 (  0%) ETA ?     \u001b[A"
     ]
    },
    {
     "name": "stderr",
     "output_type": "stream",
     "text": [
      "no GWF API available, please install a third-party GWF library (framecpp, lalframe) and try again\n"
     ]
    },
    {
     "name": "stdout",
     "output_type": "stream",
     "text": [
      "Failed to access data from frames, trying NDS...\n",
      "\n",
      "Reading H1_HOFT_C00 frames: |███▎      | 1/3 ( 33%) ETA 00:00 \u001b[AOpening new connection to 10.21.2.4... connected\n",
      "    [10.21.2.4] set ALLOW_DATA_ON_TAPE='False'\n",
      "Checking channels list against NDS2 database... done\n",
      "\n",
      "Downloading data: |          | 0/8801.0 (  0%) ETA ?     \u001b[A\n",
      "Downloading data: |          | 0/8801.0 (  0%) ETA ?     \u001b[A\n",
      "Downloading data: |████▋     | 4096.0/8801.0 ( 47%) ETA 01:16 \u001b[A\n",
      "Downloading data: |█████████▎| 8192.0/8801.0 ( 93%) ETA 00:07 \u001b[A\n",
      "Downloading data: |██████████| 8801.0/8801.0 (100%) ETA 00:00 \u001b[AAttempting to access data from frames...\n",
      "\n",
      "Reading L1_HOFT_C00 frames: |          | 0/3 (  0%) ETA ?     \u001b[A\n",
      "Reading L1_HOFT_C00 frames: |          | 0/3 (  0%) ETA ?     \u001b[A"
     ]
    },
    {
     "name": "stderr",
     "output_type": "stream",
     "text": [
      "no GWF API available, please install a third-party GWF library (framecpp, lalframe) and try again\n"
     ]
    },
    {
     "name": "stdout",
     "output_type": "stream",
     "text": [
      "Failed to access data from frames, trying NDS...\n",
      "\n",
      "Reading L1_HOFT_C00 frames: |███▎      | 1/3 ( 33%) ETA 00:00 \u001b[AOpening new connection to 10.21.2.4... connected\n",
      "    [10.21.2.4] set ALLOW_DATA_ON_TAPE='False'\n",
      "Checking channels list against NDS2 database... Opening new connection to nds.ligo.caltech.edu... "
     ]
    },
    {
     "name": "stderr",
     "output_type": "stream",
     "text": [
      "/home/vasileios.skliris/.conda/envs/conda_env/lib/python3.6/site-packages/gwpy/timeseries/core.py:1114: NDSWarning: unique NDS2 channel match not found for 'L1:GDS-CALIB_STRAIN'\n",
      "  io_nds2.NDSWarning)\n"
     ]
    },
    {
     "name": "stdout",
     "output_type": "stream",
     "text": [
      "connected\n",
      "    [nds.ligo.caltech.edu] set ALLOW_DATA_ON_TAPE='False'\n",
      "Checking channels list against NDS2 database... done\n",
      "\n",
      "Downloading data: |          | 0/8801.0 (  0%) ETA ?     \u001b[A\n",
      "Downloading data: |          | 0/8801.0 (  0%) ETA ?     \u001b[A\n",
      "Downloading data: |████▋     | 4096.0/8801.0 ( 47%) ETA 00:43 \u001b[A\n",
      "Downloading data: |█████████▎| 8192.0/8801.0 ( 93%) ETA 00:04 \u001b[A\n",
      "Downloading data: |██████████| 8801.0/8801.0 (100%) ETA 00:00 \u001b[AAttempting to access data from frames...\n",
      "\n",
      "Reading V1Online frames: |          | 0/5 (  0%) ETA ?     \u001b[A\n",
      "Reading V1Online frames: |          | 0/5 (  0%) ETA ?     \u001b[A"
     ]
    },
    {
     "name": "stderr",
     "output_type": "stream",
     "text": [
      "no GWF API available, please install a third-party GWF library (framecpp, lalframe) and try again\n"
     ]
    },
    {
     "name": "stdout",
     "output_type": "stream",
     "text": [
      "Failed to access data from frames, trying NDS...\n",
      "\n",
      "Reading V1Online frames: |██        | 1/5 ( 20%) ETA 00:00 \u001b[AOpening new connection to 10.21.2.4... connected\n",
      "    [10.21.2.4] set ALLOW_DATA_ON_TAPE='False'\n",
      "Checking channels list against NDS2 database... done\n",
      "\n",
      "Downloading data: |          | 0/8801.0 (  0%) ETA ?     \u001b[A\n",
      "Downloading data: |          | 0/8801.0 (  0%) ETA ?     \u001b[A\n",
      "Downloading data: |████▋     | 4096.0/8801.0 ( 47%) ETA 00:12 \u001b[A\n",
      "Downloading data: |█████████▎| 8192.0/8801.0 ( 93%) ETA 00:01 \u001b[A\n",
      "Downloading data: |██████████| 8801.0/8801.0 (100%) ETA 00:00 \u001b[AFile SEG1_1185286802_8801s.txt is successfully saved\n",
      "File SEG1_1185286802_8801s.txt is successfully saved\n",
      "File SEG1_1185286802_8801s.txt is successfully saved\n",
      "Attempting to access data from frames...\n",
      "\n",
      "Reading H1_HOFT_C00 frames: |          | 0/4 (  0%) ETA ?     \u001b[A\n",
      "Reading H1_HOFT_C00 frames: |          | 0/4 (  0%) ETA ?     \u001b[A"
     ]
    },
    {
     "name": "stderr",
     "output_type": "stream",
     "text": [
      "no GWF API available, please install a third-party GWF library (framecpp, lalframe) and try again\n"
     ]
    },
    {
     "name": "stdout",
     "output_type": "stream",
     "text": [
      "Failed to access data from frames, trying NDS...\n",
      "\n",
      "Reading H1_HOFT_C00 frames: |██▌       | 1/4 ( 25%) ETA 00:00 \u001b[AOpening new connection to 10.21.2.4... connected\n",
      "    [10.21.2.4] set ALLOW_DATA_ON_TAPE='False'\n",
      "Checking channels list against NDS2 database... done\n",
      "\n",
      "Downloading data: |          | 0/11678.0 (  0%) ETA ?     \u001b[A\n",
      "Downloading data: |          | 0/11678.0 (  0%) ETA ?     \u001b[A\n",
      "Downloading data: |███▌      | 4096.0/11678.0 ( 35%) ETA 02:03 \u001b[A\n",
      "Downloading data: |███▌      | 4096.0/11678.0 ( 35%) ETA 02:03 \u001b[A\n",
      "Downloading data: |███████   | 8192.0/11678.0 ( 70%) ETA 00:47 \u001b[A\n",
      "Downloading data: |██████████| 11678.0/11678.0 (100%) ETA 00:00 \u001b[AAttempting to access data from frames...\n",
      "\n",
      "Reading L1_HOFT_C00 frames: |          | 0/4 (  0%) ETA ?     \u001b[A\n",
      "Reading L1_HOFT_C00 frames: |          | 0/4 (  0%) ETA ?     \u001b[A"
     ]
    },
    {
     "name": "stderr",
     "output_type": "stream",
     "text": [
      "no GWF API available, please install a third-party GWF library (framecpp, lalframe) and try again\n"
     ]
    },
    {
     "name": "stdout",
     "output_type": "stream",
     "text": [
      "Failed to access data from frames, trying NDS...\n",
      "\n",
      "Reading L1_HOFT_C00 frames: |██▌       | 1/4 ( 25%) ETA 00:00 \u001b[AOpening new connection to 10.21.2.4... connected\n",
      "    [10.21.2.4] set ALLOW_DATA_ON_TAPE='False'\n",
      "Checking channels list against NDS2 database... Opening new connection to nds.ligo.caltech.edu... "
     ]
    },
    {
     "name": "stderr",
     "output_type": "stream",
     "text": [
      "/home/vasileios.skliris/.conda/envs/conda_env/lib/python3.6/site-packages/gwpy/timeseries/core.py:1114: NDSWarning: unique NDS2 channel match not found for 'L1:GDS-CALIB_STRAIN'\n",
      "  io_nds2.NDSWarning)\n"
     ]
    },
    {
     "name": "stdout",
     "output_type": "stream",
     "text": [
      "connected\n",
      "    [nds.ligo.caltech.edu] set ALLOW_DATA_ON_TAPE='False'\n",
      "Checking channels list against NDS2 database... done\n",
      "\n",
      "Downloading data: |          | 0/11678.0 (  0%) ETA ?     \u001b[A\n",
      "Downloading data: |          | 0/11678.0 (  0%) ETA ?     \u001b[A\n",
      "Downloading data: |███▌      | 4096.0/11678.0 ( 35%) ETA 01:13 \u001b[A\n",
      "Downloading data: |███████   | 8192.0/11678.0 ( 70%) ETA 00:27 \u001b[A\n",
      "Downloading data: |██████████| 11678.0/11678.0 (100%) ETA 00:00 \u001b[AAttempting to access data from frames...\n",
      "\n",
      "Reading V1Online frames: |          | 0/7 (  0%) ETA ?     \u001b[A\n",
      "Reading V1Online frames: |          | 0/7 (  0%) ETA ?     \u001b[A"
     ]
    },
    {
     "name": "stderr",
     "output_type": "stream",
     "text": [
      "no GWF API available, please install a third-party GWF library (framecpp, lalframe) and try again\n"
     ]
    },
    {
     "name": "stdout",
     "output_type": "stream",
     "text": [
      "Failed to access data from frames, trying NDS...\n",
      "\n",
      "Reading V1Online frames: |█▍        | 1/7 ( 14%) ETA 00:00 \u001b[AOpening new connection to 10.21.2.4... connected\n",
      "    [10.21.2.4] set ALLOW_DATA_ON_TAPE='False'\n",
      "Checking channels list against NDS2 database... done\n",
      "\n",
      "Downloading data: |          | 0/11678.0 (  0%) ETA ?     \u001b[A\n",
      "Downloading data: |          | 0/11678.0 (  0%) ETA ?     \u001b[A\n",
      "Downloading data: |███▌      | 4096.0/11678.0 ( 35%) ETA 00:17 \u001b[A\n",
      "Downloading data: |███████   | 8192.0/11678.0 ( 70%) ETA 00:06 \u001b[A\n",
      "Downloading data: |██████████| 11678.0/11678.0 (100%) ETA 00:00 \u001b[AFile SEG2_1185295624_11678s.txt is successfully saved\n",
      "File SEG2_1185295624_11678s.txt is successfully saved\n",
      "File SEG2_1185295624_11678s.txt is successfully saved\n"
     ]
    }
   ],
   "source": [
    "downsample=2048  # The data are in 16384 Hz sampling rate, resample to the frequency you want, 2048,4096 ...\n",
    "segments=[0,1,2] # The segment number of the above that you want to save\n",
    "fs=2048\n",
    "saving_type='segments'\n",
    "\n",
    "\n",
    "for segment in segments:\n",
    "    \n",
    "    file_size=32  # Time duration of the time intervals that you will save in grinding\n",
    "\n",
    "    ####################################################\n",
    "\n",
    "\n",
    "    gps_start=sim_seg[segment][0]\n",
    "    gps_end=sim_seg[segment][1]\n",
    "\n",
    "    datah=TimeSeries.get('H1:GDS-CALIB_STRAIN', gps_start, gps_end, frametype='H1_HOFT_C00',verbose=True)\n",
    "    datal=TimeSeries.get('L1:GDS-CALIB_STRAIN', gps_start, gps_end, frametype='L1_HOFT_C00',verbose=True)\n",
    "    datav=TimeSeries.get('V1:Hrec_hoft_16384Hz', gps_start, gps_end, frametype='V1Online',verbose=True)\n",
    "\n",
    "\n",
    "    if isinstance(downsample,int):\n",
    "        datah=datah.resample(downsample)\n",
    "        datal=datal.resample(downsample)\n",
    "        datav=datav.resample(downsample)\n",
    "\n",
    "    if saving_type=='grinding':\n",
    "\n",
    "        no_of_sets=int((sim_seg[segment][1]-sim_seg[segment][0])/file_size)\n",
    "\n",
    "        for i in range(0,no_of_sets-1):\n",
    "            start=int(i*file_size)\n",
    "            end=int((i+1)*file_size)\n",
    "\n",
    "            h=datah[start*fs:end*fs]\n",
    "            l=datal[start*fs:end*fs]\n",
    "            v=datav[start*fs:end*fs]\n",
    "            #Saving as many segments of file_size time intervals from a specific segment\n",
    "\n",
    "\n",
    "            nameref=str(segment)+'_'+str(int(gps_start+start))+'.txt'\n",
    "\n",
    "            np.savetxt('/home/vasileios.skliris/EMILY/ligo_data/'+FS+'/'+file_name+'/H/'+nameref,h)\n",
    "            print(str(i)+'. File '+nameref+' is successfully saved')\n",
    "            np.savetxt('/home/vasileios.skliris/EMILY/ligo_data/'+FS+'/'+file_name+'/L/'+nameref,l)\n",
    "            print('   File '+nameref+' is successfully saved')\n",
    "            np.savetxt('/home/vasileios.skliris/EMILY/ligo_data/'+FS+'/'+file_name+'/V/'+nameref,v)\n",
    "            print('   File '+nameref+' is successfully saved')\n",
    "\n",
    "\n",
    "    elif saving_type=='segments':\n",
    "\n",
    "\n",
    "        nameref='SEG'+str(segment)+'_'+str(int(gps_start))+'_'+str(int(gps_end-gps_start))+'s.txt'\n",
    "\n",
    "        np.savetxt('/home/vasileios.skliris/EMILY/ligo_data/'+FS+'/'+file_name+'/H/'+nameref,datah)\n",
    "        print('File '+nameref+' is successfully saved')\n",
    "        np.savetxt('/home/vasileios.skliris/EMILY/ligo_data/'+FS+'/'+file_name+'/L/'+nameref,datal)\n",
    "        print('File '+nameref+' is successfully saved')\n",
    "        np.savetxt('/home/vasileios.skliris/EMILY/ligo_data/'+FS+'/'+file_name+'/V/'+nameref,datav)\n",
    "        print('File '+nameref+' is successfully saved')"
   ]
  },
  {
   "cell_type": "code",
   "execution_count": null,
   "metadata": {},
   "outputs": [],
   "source": []
  }
 ],
 "metadata": {
  "kernelspec": {
   "display_name": "xconda",
   "language": "python",
   "name": "xconda"
  },
  "language_info": {
   "codemirror_mode": {
    "name": "ipython",
    "version": 3
   },
   "file_extension": ".py",
   "mimetype": "text/x-python",
   "name": "python",
   "nbconvert_exporter": "python",
   "pygments_lexer": "ipython3",
   "version": "3.6.8"
  }
 },
 "nbformat": 4,
 "nbformat_minor": 2
}
