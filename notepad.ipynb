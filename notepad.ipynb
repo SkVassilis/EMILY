{
 "cells": [
  {
   "cell_type": "code",
   "execution_count": 74,
   "metadata": {},
   "outputs": [
    {
     "name": "stderr",
     "output_type": "stream",
     "text": [
      "Using TensorFlow backend.\n"
     ]
    }
   ],
   "source": [
    "import numpy as np\n",
    "from gwpy.timeseries import TimeSeries\n",
    "import matplotlib.pyplot as plt\n",
    "from emily import *"
   ]
  },
  {
   "cell_type": "code",
   "execution_count": 8,
   "metadata": {},
   "outputs": [],
   "source": [
    "d=dirlist('/home/vasileios.skliris/EMILY/injections/cbcs/cbc_00/H')\n",
    "inj0=load_inj('cbc_00',d[np.random.randint(0,len(d))],'H')\n"
   ]
  },
  {
   "cell_type": "code",
   "execution_count": 9,
   "metadata": {},
   "outputs": [
    {
     "name": "stdout",
     "output_type": "stream",
     "text": [
      "12.266995188460383\n",
      "10.213691395629196\n",
      "11.662194981341026\n",
      "10.098237435722835\n",
      "12.598125228317404\n",
      "12.142113941989846\n"
     ]
    }
   ],
   "source": [
    "fs=2048\n",
    "inj=1e21*inj0\n",
    "\n",
    "l=32\n",
    "for l in [128,64,32,16,8,4]:\n",
    "    t=np.arange(0,l,1/fs)\n",
    "    noise=np.random.randn(len(t))\n",
    "\n",
    "    signal=np.hstack((np.zeros(np.int(fs*(l-4)/2)), inj ,np.zeros(np.int(fs*(l-4)/2))))\n",
    "\n",
    "    data=signal+noise\n",
    "\n",
    "    fft_noise=np.fft.fft(noise)\n",
    "    fft_signal=np.fft.fft(signal)\n",
    "    fft_data=np.fft.fft(data)\n",
    "\n",
    "\n",
    "    print(SNR(data,signal,noise,maximum=True,fs=2048))\n",
    "\n",
    "    Rn,In=[],[]\n",
    "    for num in fft_noise:\n",
    "        Rn.append(num.real)\n",
    "        In.append(num.imag)\n",
    "\n",
    "    Rs,Is=[],[]\n",
    "    for num in fft_signal:\n",
    "        Rs.append(num.real)\n",
    "        Is.append(num.imag)\n",
    "\n",
    "    Rd,Id=[],[]\n",
    "    for num in fft_data:\n",
    "        Rd.append(num.real)\n",
    "        Id.append(num.imag)\n",
    "        \n",
    "    plt.figure(figsize=(15,5))\n",
    "\n",
    "    plt.subplot(1,4,1)\n",
    "    plt.plot(Rn,In,'b*')\n",
    "    plt.xlim([min(Rd),max(Rd)])\n",
    "    plt.ylim([min(Id),max(Id)])\n",
    "\n",
    "    plt.subplot(1,4,2)\n",
    "    plt.plot(Rs,Is,'r*')\n",
    "    plt.xlim([min(Rd),max(Rd)])\n",
    "    plt.ylim([min(Id),max(Id)])\n",
    "\n",
    "    plt.subplot(1,4,3)\n",
    "    plt.plot(Rd,Id,'b*')\n",
    "    plt.plot(Rs,Is,'b*')\n",
    "    plt.xlim([min(Rd),max(Rd)])\n",
    "    plt.ylim([min(Id),max(Id)])\n",
    "\n",
    "    plt.subplot(1,4,4)\n",
    "    plt.plot(Rd,Id,'b*')\n",
    "    plt.plot(Rs,Is,'r*')\n",
    "    plt.xlim([min(Rd),max(Rd)])\n",
    "    plt.ylim([min(Id),max(Id)])\n",
    "\n",
    "    plt.figure(figsize=(15,3))\n",
    "    plt.plot(t,signal+noise,'b')\n",
    "    plt.plot(t,signal,'r')\n",
    "    #plt.xlim(int(l/2-2), int(l/2+2))\n",
    "    plt.xlim(0,l)\n",
    "    plt.ylim(np.min(signal+noise), np.max(signal+noise))\n",
    "\n",
    "\n",
    "    plt.show()"
   ]
  },
  {
   "cell_type": "code",
   "execution_count": 10,
   "metadata": {},
   "outputs": [
    {
     "name": "stdout",
     "output_type": "stream",
     "text": [
      "8.784921097520646\n",
      "10.150080383800749\n",
      "15.694503729932311\n",
      "14.338372943138944\n",
      "646.4298675406526\n",
      "311.8782383553833\n"
     ]
    },
    {
     "name": "stderr",
     "output_type": "stream",
     "text": [
      "/home/vasileios.skliris/env/lib/python3.6/site-packages/matplotlib/pyplot.py:514: RuntimeWarning: More than 20 figures have been opened. Figures created through the pyplot interface (`matplotlib.pyplot.figure`) are retained until explicitly closed and may consume too much memory. (To control this warning, see the rcParam `figure.max_open_warning`).\n",
      "  max_open_warning, RuntimeWarning)\n"
     ]
    }
   ],
   "source": [
    "fs=2048\n",
    "l=1\n",
    "\n",
    "for l in [3,2,1,0.5,0.25,0.125]:\n",
    "    t=np.arange(4-l,4,1/fs)#np.arange(0,l,1/fs)###\n",
    "    noise=np.random.randn(len(t))\n",
    "    signal=inj[int((4-l)*fs):]#inj[0:int(l*fs)]#inj[int((4-l)*fs):]#\n",
    "\n",
    "    data=signal+noise\n",
    "\n",
    "    fft_noise=np.fft.fft(noise)\n",
    "    fft_signal=np.fft.fft(signal)\n",
    "    fft_data=np.fft.fft(data)\n",
    "\n",
    "\n",
    "    print(SNR(data,signal,noise,maximum=True,fs=2048))\n",
    "\n",
    "    Rn,In=[],[]\n",
    "    for num in fft_noise:\n",
    "        Rn.append(num.real)\n",
    "        In.append(num.imag)\n",
    "\n",
    "    Rs,Is=[],[]\n",
    "    for num in fft_signal:\n",
    "        Rs.append(num.real)\n",
    "        Is.append(num.imag)\n",
    "\n",
    "    Rd,Id=[],[]\n",
    "    for num in fft_data:\n",
    "        Rd.append(num.real)\n",
    "        Id.append(num.imag)\n",
    "    plt.figure(figsize=(15,5))\n",
    "\n",
    "\n",
    "    plt.subplot(1,4,1)\n",
    "    plt.plot(Rn,In,'b*')\n",
    "    plt.xlim([min(Rd),max(Rd)])\n",
    "    plt.ylim([min(Id),max(Id)])\n",
    "\n",
    "    plt.subplot(1,4,2)\n",
    "    plt.plot(Rs,Is,'r*')\n",
    "    plt.xlim([min(Rd),max(Rd)])\n",
    "    plt.ylim([min(Id),max(Id)])\n",
    "\n",
    "    plt.subplot(1,4,3)\n",
    "    plt.plot(Rd,Id,'b*')\n",
    "    plt.plot(Rs,Is,'b*')\n",
    "    plt.xlim([min(Rd),max(Rd)])\n",
    "    plt.ylim([min(Id),max(Id)])\n",
    "\n",
    "    plt.subplot(1,4,4)\n",
    "    plt.plot(Rd,Id,'b*')\n",
    "    plt.plot(Rs,Is,'r*')\n",
    "    plt.xlim([min(Rd),max(Rd)])\n",
    "    plt.ylim([min(Id),max(Id)])\n",
    "\n",
    "    plt.figure(figsize=(15,3))\n",
    "    plt.plot(t,signal+noise,'b')\n",
    "    plt.plot(t,signal,'r')\n",
    "    #plt.xlim(0, l)\n",
    "    plt.xlim(4-l,4)\n",
    "    plt.ylim(np.min(signal+noise), np.max(signal+noise))\n",
    "\n",
    "\n",
    "\n",
    "    plt.show()"
   ]
  },
  {
   "cell_type": "code",
   "execution_count": 65,
   "metadata": {},
   "outputs": [
    {
     "data": {
      "text/plain": [
       "[<matplotlib.lines.Line2D at 0x7ff18b56dcc0>]"
      ]
     },
     "execution_count": 65,
     "metadata": {},
     "output_type": "execute_result"
    },
    {
     "data": {
      "image/png": "[encoded data removed]",
      "text/plain": [
       "<Figure size 432x288 with 1 Axes>"
      ]
     },
     "metadata": {
      "needs_background": "light"
     },
     "output_type": "display_data"
    }
   ],
   "source": [
    "\n",
    "\n",
    "    "
   ]
  },
  {
   "cell_type": "code",
   "execution_count": 26,
   "metadata": {},
   "outputs": [
    {
     "data": {
      "text/plain": [
       "0.0"
      ]
     },
     "execution_count": 26,
     "metadata": {},
     "output_type": "execute_result"
    }
   ],
   "source": [
    "fft_noise[0].imag"
   ]
  },
  {
   "cell_type": "code",
   "execution_count": 23,
   "metadata": {},
   "outputs": [
    {
     "name": "stdout",
     "output_type": "stream",
     "text": [
      "Running diagnostics for file: /home/vasileios.skliris/EMILY/datasets/cbc/cbc_test  ... \n",
      "\n",
      "9 11\n"
     ]
    }
   ],
   "source": [
    "path='/home/vasileios.skliris/EMILY/datasets/cbc/cbc_test'#/real/real_test3'\n",
    "\n",
    "files=dirlist(path)\n",
    "\n",
    "print('Running diagnostics for file: '+path+'  ... \\n') \n",
    "py, mat=[],[]\n",
    "for file in files:\n",
    "    if file[-3:]=='.py':\n",
    "        py.append(file)\n",
    "    elif file[-4:]=='.mat':\n",
    "        mat.append(file)\n",
    "\n",
    "if len(mat)==len(py):\n",
    "    print('Files succesfully generated, all files are here')\n",
    "\n",
    "print(len(mat),len(py))\n",
    "    \n",
    "\n",
    "    "
   ]
  },
  {
   "cell_type": "code",
   "execution_count": 302,
   "metadata": {},
   "outputs": [
    {
     "name": "stdout",
     "output_type": "stream",
     "text": [
      "[[[], []], [[], []]]\n"
     ]
    }
   ],
   "source": [
    "set_num=[]\n",
    "indexing=[]\n",
    "for file in mat:\n",
    "    if 'part_of' in file:\n",
    "        pairs=file[:-4].split('part_of_')[1].split('_')\n",
    "        if pairs[0] not in set_num:\n",
    "            set_num.append(pairs[0])\n",
    "        indexing.append([pairs[0], file, pairs[1] ])\n",
    "\n",
    "        \n",
    "\n",
    "fusion_list=[]\n",
    "for i in range(len(pairs)):\n",
    "    for set_0 in indexing:\n",
    "        sets, sizes=[],[]\n",
    "        if set_0[0]==indexing[0]:\n",
    "            sets.append(file)\n",
    "            sizes.append(pairs[1])\n",
    "            \n",
    "    fusion_list.append([sets,sizes])\n",
    "    \n",
    "print(fusion_list)\n",
    "            \n",
    "        \n",
    "\n",
    "    \n",
    "    \n",
    "    \n",
    "    \n",
    "#         if pairs[0]==set_num:\n",
    "#             sets.append(file)\n",
    "#             sizes.append(pairs[1])\n",
    "#         elif pairs[0]!=set_num:\n",
    "#             fusion_list.append([sets,sizes])\n",
    "#             sets, sizes=[],[]\n",
    "#             sets.append(file)\n",
    "#             sizes.append(pairs[1])\n",
    "#             set_num=int(pairs[0])\n",
    "# print(np.array(fusion_list))\n",
    "\n",
    "            \n",
    "        \n",
    "        \n",
    "        \n",
    "#         print('data_fusion(names     #Takes as input the datasets name [, , , ...] files and combines them to one new.\n",
    "#                 ,sizes=None\n",
    "#                 ,save=False\n",
    "#                 ,data_source_file='/home/vasileios.skliris/EMILY/datasets/'):      \n",
    "\n",
    "        "
   ]
  },
  {
   "cell_type": "code",
   "execution_count": 240,
   "metadata": {},
   "outputs": [
    {
     "name": "stdout",
     "output_type": "stream",
     "text": [
      "/home/vasileios.skliris/EMILY\n"
     ]
    }
   ],
   "source": [
    "print(a)"
   ]
  },
  {
   "cell_type": "code",
   "execution_count": 271,
   "metadata": {},
   "outputs": [
    {
     "data": {
      "text/plain": [
       "True"
      ]
     },
     "execution_count": 271,
     "metadata": {},
     "output_type": "execute_result"
    }
   ],
   "source": [
    "d='outpart_of_1_168.mat'\n",
    "'part_of' in d"
   ]
  },
  {
   "cell_type": "code",
   "execution_count": 274,
   "metadata": {},
   "outputs": [
    {
     "name": "stdout",
     "output_type": "stream",
     "text": [
      "['10', '9712']\n"
     ]
    }
   ],
   "source": [
    "d='HLV_time_real_noise_part_of_10_9712.mat'[:-4]\n",
    "\n",
    "df=d.split('part_of_')[1].split('_')\n",
    "\n",
    "print(df)"
   ]
  },
  {
   "cell_type": "code",
   "execution_count": null,
   "metadata": {},
   "outputs": [],
   "source": [
    "'HLV_time_real_noise_6XM.mat'"
   ]
  },
  {
   "cell_type": "code",
   "execution_count": null,
   "metadata": {},
   "outputs": [],
   "source": [
    "for file in  gen_part_of*; do\n",
    "    mv \"$file\" \"${file/__/_}\"\n",
    "done"
   ]
  },
  {
   "cell_type": "code",
   "execution_count": 308,
   "metadata": {},
   "outputs": [
    {
     "ename": "ValueError",
     "evalue": "operands could not be broadcast together with shapes (100,) (88,) ",
     "output_type": "error",
     "traceback": [
      "\u001b[0;31m---------------------------------------------------------------------------\u001b[0m",
      "\u001b[0;31mValueError\u001b[0m                                Traceback (most recent call last)",
      "\u001b[0;32m<ipython-input-308-07accb706e3c>\u001b[0m in \u001b[0;36m<module>\u001b[0;34m\u001b[0m\n\u001b[1;32m      2\u001b[0m \u001b[0mb\u001b[0m\u001b[0;34m=\u001b[0m\u001b[0mnp\u001b[0m\u001b[0;34m.\u001b[0m\u001b[0marange\u001b[0m\u001b[0;34m(\u001b[0m\u001b[0;36m88\u001b[0m\u001b[0;34m)\u001b[0m\u001b[0;34m\u001b[0m\u001b[0m\n\u001b[1;32m      3\u001b[0m \u001b[0;34m\u001b[0m\u001b[0m\n\u001b[0;32m----> 4\u001b[0;31m \u001b[0mc\u001b[0m\u001b[0;34m=\u001b[0m\u001b[0ma\u001b[0m\u001b[0;34m+\u001b[0m\u001b[0mb\u001b[0m\u001b[0;34m\u001b[0m\u001b[0m\n\u001b[0m",
      "\u001b[0;31mValueError\u001b[0m: operands could not be broadcast together with shapes (100,) (88,) "
     ]
    }
   ],
   "source": [
    "a=np.arange(100)\n",
    "b=np.arange(88)\n",
    "\n",
    "c=a+b"
   ]
  },
  {
   "cell_type": "code",
   "execution_count": 316,
   "metadata": {},
   "outputs": [
    {
     "name": "stdout",
     "output_type": "stream",
     "text": [
      "65536 65536\n"
     ]
    }
   ],
   "source": [
    "a=TimeSeries(np.random.randn(32*2048),sample_rate=2048)\n",
    "asd=a.asd(1,0.5)\n",
    "\n",
    "\n",
    "b=a.whiten(1,0.5,asd=asd)\n",
    "\n",
    "print(len(a),len(b))"
   ]
  },
  {
   "cell_type": "code",
   "execution_count": 1,
   "metadata": {},
   "outputs": [
    {
     "name": "stderr",
     "output_type": "stream",
     "text": [
      "Using TensorFlow backend.\n"
     ]
    }
   ],
   "source": [
    "from emily import *\n",
    "\n",
    "\n"
   ]
  },
  {
   "cell_type": "code",
   "execution_count": 20,
   "metadata": {},
   "outputs": [
    {
     "name": "stdout",
     "output_type": "stream",
     "text": [
      "0 16476.0 32 2048\n"
     ]
    },
    {
     "name": "stderr",
     "output_type": "stream",
     "text": [
      "/home/vasileios.skliris/env/lib/python3.6/site-packages/matplotlib/axes/_axes.py:7007: RuntimeWarning: divide by zero encountered in log10\n",
      "  line = self.plot(freqs, 10 * np.log10(pxx), **kwargs)\n"
     ]
    },
    {
     "ename": "IndexError",
     "evalue": "index 0 is out of bounds for axis 0 with size 0",
     "output_type": "error",
     "traceback": [
      "\u001b[0;31m---------------------------------------------------------------------------\u001b[0m",
      "\u001b[0;31mValueError\u001b[0m                                Traceback (most recent call last)",
      "\u001b[0;32m~/env/lib/python3.6/site-packages/gwpy/signal/fft/ui.py\u001b[0m in \u001b[0;36mpsdn\u001b[0;34m(timeseries, method_func, *args, **kwargs)\u001b[0m\n\u001b[1;32m    281\u001b[0m     \u001b[0;32mtry\u001b[0m\u001b[0;34m:\u001b[0m\u001b[0;34m\u001b[0m\u001b[0m\n\u001b[0;32m--> 282\u001b[0;31m         \u001b[0mtimeseries\u001b[0m\u001b[0;34m,\u001b[0m \u001b[0mother\u001b[0m \u001b[0;34m=\u001b[0m \u001b[0mtimeseries\u001b[0m\u001b[0;34m\u001b[0m\u001b[0m\n\u001b[0m\u001b[1;32m    283\u001b[0m     \u001b[0;31m# or just calculate PSD\u001b[0m\u001b[0;34m\u001b[0m\u001b[0;34m\u001b[0m\u001b[0m\n",
      "\u001b[0;31mValueError\u001b[0m: not enough values to unpack (expected 2, got 0)",
      "\nDuring handling of the above exception, another exception occurred:\n",
      "\u001b[0;31mIndexError\u001b[0m                                Traceback (most recent call last)",
      "\u001b[0;32m<ipython-input-20-fa8ed9d6c991>\u001b[0m in \u001b[0;36m<module>\u001b[0;34m\u001b[0m\n\u001b[1;32m     13\u001b[0m                        \u001b[0;34m,\u001b[0m\u001b[0mname\u001b[0m\u001b[0;34m=\u001b[0m\u001b[0;34m''\u001b[0m\u001b[0;34m\u001b[0m\u001b[0m\n\u001b[1;32m     14\u001b[0m                        \u001b[0;34m,\u001b[0m\u001b[0mdestination_path\u001b[0m\u001b[0;34m=\u001b[0m\u001b[0;34m'/home/vasileios.skliris/EMILY/datasets/'\u001b[0m\u001b[0;34m\u001b[0m\u001b[0m\n\u001b[0;32m---> 15\u001b[0;31m                        ,demo=True)\n\u001b[0m",
      "\u001b[0;32m~/EMILY/emily.py\u001b[0m in \u001b[0;36mdata_generator_cbc\u001b[0;34m(parameters, length, fs, size, detectors, spec, phase, res, noise_file, t, batch_size, starting_point, name, destination_path, demo)\u001b[0m\n\u001b[1;32m   1219\u001b[0m \u001b[0;34m\u001b[0m\u001b[0m\n\u001b[1;32m   1220\u001b[0m                 \u001b[0mV_back\u001b[0m\u001b[0;34m=\u001b[0m\u001b[0mTimeSeries\u001b[0m\u001b[0;34m(\u001b[0m\u001b[0mnoiseV\u001b[0m\u001b[0;34m,\u001b[0m\u001b[0msample_rate\u001b[0m\u001b[0;34m=\u001b[0m\u001b[0mfs\u001b[0m\u001b[0;34m)\u001b[0m              \u001b[0;31m# Making the noise a TimeSeries\u001b[0m\u001b[0;34m\u001b[0m\u001b[0m\n\u001b[0;32m-> 1221\u001b[0;31m                 \u001b[0masdV\u001b[0m\u001b[0;34m=\u001b[0m\u001b[0mV_back\u001b[0m\u001b[0;34m.\u001b[0m\u001b[0masd\u001b[0m\u001b[0;34m(\u001b[0m\u001b[0;36m1\u001b[0m\u001b[0;34m,\u001b[0m\u001b[0;36m0.5\u001b[0m\u001b[0;34m)\u001b[0m                                    \u001b[0;31m# Calculating the ASD so tha we can use it for\u001b[0m\u001b[0;34m\u001b[0m\u001b[0m\n\u001b[0m\u001b[1;32m   1222\u001b[0m                                                                           \u001b[0;31m# whitening later\u001b[0m\u001b[0;34m\u001b[0m\u001b[0;34m\u001b[0m\u001b[0m\n\u001b[1;32m   1223\u001b[0m \u001b[0;34m\u001b[0m\u001b[0m\n",
      "\u001b[0;32m~/env/lib/python3.6/site-packages/gwpy/timeseries/timeseries.py\u001b[0m in \u001b[0;36masd\u001b[0;34m(self, fftlength, overlap, window, method, **kwargs)\u001b[0m\n\u001b[1;32m    347\u001b[0m         \"\"\"\n\u001b[1;32m    348\u001b[0m         return self.psd(method=method, fftlength=fftlength, overlap=overlap,\n\u001b[0;32m--> 349\u001b[0;31m                         window=window, **kwargs) ** (1/2.)\n\u001b[0m\u001b[1;32m    350\u001b[0m \u001b[0;34m\u001b[0m\u001b[0m\n\u001b[1;32m    351\u001b[0m     def csd(self, other, fftlength=None, overlap=None, window='hann',\n",
      "\u001b[0;32m~/env/lib/python3.6/site-packages/gwpy/timeseries/timeseries.py\u001b[0m in \u001b[0;36mpsd\u001b[0;34m(self, fftlength, overlap, window, method, **kwargs)\u001b[0m\n\u001b[1;32m    306\u001b[0m         \u001b[0;31m# calculate PSD using UI method\u001b[0m\u001b[0;34m\u001b[0m\u001b[0;34m\u001b[0m\u001b[0m\n\u001b[1;32m    307\u001b[0m         return fft_ui.psd(self, method_func, fftlength=fftlength,\n\u001b[0;32m--> 308\u001b[0;31m                           overlap=overlap, window=window, **kwargs)\n\u001b[0m\u001b[1;32m    309\u001b[0m \u001b[0;34m\u001b[0m\u001b[0m\n\u001b[1;32m    310\u001b[0m     \u001b[0;34m@\u001b[0m\u001b[0m_update_doc_with_fft_methods\u001b[0m\u001b[0;34m\u001b[0m\u001b[0m\n",
      "\u001b[0;32m~/env/lib/python3.6/site-packages/gwpy/signal/fft/ui.py\u001b[0m in \u001b[0;36mwrapped_func\u001b[0;34m(series, method_func, *args, **kwargs)\u001b[0m\n\u001b[1;32m    236\u001b[0m         \u001b[0mnormalize_fft_params\u001b[0m\u001b[0;34m(\u001b[0m\u001b[0mdata\u001b[0m\u001b[0;34m,\u001b[0m \u001b[0mkwargs\u001b[0m\u001b[0;34m=\u001b[0m\u001b[0mkwargs\u001b[0m\u001b[0;34m,\u001b[0m \u001b[0mfunc\u001b[0m\u001b[0;34m=\u001b[0m\u001b[0mmethod_func\u001b[0m\u001b[0;34m)\u001b[0m\u001b[0;34m\u001b[0m\u001b[0m\n\u001b[1;32m    237\u001b[0m \u001b[0;34m\u001b[0m\u001b[0m\n\u001b[0;32m--> 238\u001b[0;31m         \u001b[0;32mreturn\u001b[0m \u001b[0mfunc\u001b[0m\u001b[0;34m(\u001b[0m\u001b[0mseries\u001b[0m\u001b[0;34m,\u001b[0m \u001b[0mmethod_func\u001b[0m\u001b[0;34m,\u001b[0m \u001b[0;34m*\u001b[0m\u001b[0margs\u001b[0m\u001b[0;34m,\u001b[0m \u001b[0;34m**\u001b[0m\u001b[0mkwargs\u001b[0m\u001b[0;34m)\u001b[0m\u001b[0;34m\u001b[0m\u001b[0m\n\u001b[0m\u001b[1;32m    239\u001b[0m \u001b[0;34m\u001b[0m\u001b[0m\n\u001b[1;32m    240\u001b[0m     \u001b[0;32mreturn\u001b[0m \u001b[0mwrapped_func\u001b[0m\u001b[0;34m\u001b[0m\u001b[0m\n",
      "\u001b[0;32m~/env/lib/python3.6/site-packages/gwpy/signal/fft/ui.py\u001b[0m in \u001b[0;36mpsd\u001b[0;34m(timeseries, method_func, *args, **kwargs)\u001b[0m\n\u001b[1;32m    259\u001b[0m     \"\"\"\n\u001b[1;32m    260\u001b[0m     \u001b[0;31m# decorator has translated the arguments for us, so just call psdn()\u001b[0m\u001b[0;34m\u001b[0m\u001b[0;34m\u001b[0m\u001b[0m\n\u001b[0;32m--> 261\u001b[0;31m     \u001b[0;32mreturn\u001b[0m \u001b[0mpsdn\u001b[0m\u001b[0;34m(\u001b[0m\u001b[0mtimeseries\u001b[0m\u001b[0;34m,\u001b[0m \u001b[0mmethod_func\u001b[0m\u001b[0;34m,\u001b[0m \u001b[0;34m*\u001b[0m\u001b[0margs\u001b[0m\u001b[0;34m,\u001b[0m \u001b[0;34m**\u001b[0m\u001b[0mkwargs\u001b[0m\u001b[0;34m)\u001b[0m\u001b[0;34m\u001b[0m\u001b[0m\n\u001b[0m\u001b[1;32m    262\u001b[0m \u001b[0;34m\u001b[0m\u001b[0m\n\u001b[1;32m    263\u001b[0m \u001b[0;34m\u001b[0m\u001b[0m\n",
      "\u001b[0;32m~/env/lib/python3.6/site-packages/gwpy/signal/fft/ui.py\u001b[0m in \u001b[0;36mpsdn\u001b[0;34m(timeseries, method_func, *args, **kwargs)\u001b[0m\n\u001b[1;32m    283\u001b[0m     \u001b[0;31m# or just calculate PSD\u001b[0m\u001b[0;34m\u001b[0m\u001b[0;34m\u001b[0m\u001b[0m\n\u001b[1;32m    284\u001b[0m     \u001b[0;32mexcept\u001b[0m \u001b[0mValueError\u001b[0m\u001b[0;34m:\u001b[0m\u001b[0;34m\u001b[0m\u001b[0m\n\u001b[0;32m--> 285\u001b[0;31m         \u001b[0;32mreturn\u001b[0m \u001b[0mmethod_func\u001b[0m\u001b[0;34m(\u001b[0m\u001b[0mtimeseries\u001b[0m\u001b[0;34m,\u001b[0m \u001b[0mkwargs\u001b[0m\u001b[0;34m.\u001b[0m\u001b[0mpop\u001b[0m\u001b[0;34m(\u001b[0m\u001b[0;34m'nfft'\u001b[0m\u001b[0;34m)\u001b[0m\u001b[0;34m,\u001b[0m \u001b[0;34m*\u001b[0m\u001b[0margs\u001b[0m\u001b[0;34m,\u001b[0m \u001b[0;34m**\u001b[0m\u001b[0mkwargs\u001b[0m\u001b[0;34m)\u001b[0m\u001b[0;34m\u001b[0m\u001b[0m\n\u001b[0m\u001b[1;32m    286\u001b[0m     \u001b[0;32melse\u001b[0m\u001b[0;34m:\u001b[0m\u001b[0;34m\u001b[0m\u001b[0m\n\u001b[1;32m    287\u001b[0m         return method_func(timeseries, other, kwargs.pop('nfft'),\n",
      "\u001b[0;32m~/env/lib/python3.6/site-packages/gwpy/signal/fft/scipy.py\u001b[0m in \u001b[0;36mwelch\u001b[0;34m(timeseries, segmentlength, noverlap, **kwargs)\u001b[0m\n\u001b[1;32m     68\u001b[0m     return FrequencySeries(psd_, unit=unit, frequencies=freqs,\n\u001b[1;32m     69\u001b[0m                            \u001b[0mname\u001b[0m\u001b[0;34m=\u001b[0m\u001b[0mtimeseries\u001b[0m\u001b[0;34m.\u001b[0m\u001b[0mname\u001b[0m\u001b[0;34m,\u001b[0m \u001b[0mepoch\u001b[0m\u001b[0;34m=\u001b[0m\u001b[0mtimeseries\u001b[0m\u001b[0;34m.\u001b[0m\u001b[0mepoch\u001b[0m\u001b[0;34m,\u001b[0m\u001b[0;34m\u001b[0m\u001b[0m\n\u001b[0;32m---> 70\u001b[0;31m                            channel=timeseries.channel)\n\u001b[0m\u001b[1;32m     71\u001b[0m \u001b[0;34m\u001b[0m\u001b[0m\n\u001b[1;32m     72\u001b[0m \u001b[0;34m\u001b[0m\u001b[0m\n",
      "\u001b[0;32m~/env/lib/python3.6/site-packages/gwpy/frequencyseries/frequencyseries.py\u001b[0m in \u001b[0;36m__new__\u001b[0;34m(cls, data, unit, f0, df, frequencies, name, epoch, channel, **kwargs)\u001b[0m\n\u001b[1;32m    109\u001b[0m         return super(FrequencySeries, cls).__new__(\n\u001b[1;32m    110\u001b[0m             \u001b[0mcls\u001b[0m\u001b[0;34m,\u001b[0m \u001b[0mdata\u001b[0m\u001b[0;34m,\u001b[0m \u001b[0munit\u001b[0m\u001b[0;34m=\u001b[0m\u001b[0munit\u001b[0m\u001b[0;34m,\u001b[0m \u001b[0mname\u001b[0m\u001b[0;34m=\u001b[0m\u001b[0mname\u001b[0m\u001b[0;34m,\u001b[0m \u001b[0mchannel\u001b[0m\u001b[0;34m=\u001b[0m\u001b[0mchannel\u001b[0m\u001b[0;34m,\u001b[0m\u001b[0;34m\u001b[0m\u001b[0m\n\u001b[0;32m--> 111\u001b[0;31m             epoch=epoch, **kwargs)\n\u001b[0m\u001b[1;32m    112\u001b[0m \u001b[0;34m\u001b[0m\u001b[0m\n\u001b[1;32m    113\u001b[0m     \u001b[0;31m# -- FrequencySeries properties -------------\u001b[0m\u001b[0;34m\u001b[0m\u001b[0;34m\u001b[0m\u001b[0m\n",
      "\u001b[0;32m~/env/lib/python3.6/site-packages/gwpy/types/series.py\u001b[0m in \u001b[0;36m__new__\u001b[0;34m(cls, value, unit, x0, dx, xindex, xunit, **kwargs)\u001b[0m\n\u001b[1;32m    137\u001b[0m             \u001b[0;32melif\u001b[0m \u001b[0mxunit\u001b[0m \u001b[0;32mis\u001b[0m \u001b[0;32mNone\u001b[0m\u001b[0;34m:\u001b[0m\u001b[0;34m\u001b[0m\u001b[0m\n\u001b[1;32m    138\u001b[0m                 \u001b[0mxunit\u001b[0m \u001b[0;34m=\u001b[0m \u001b[0mcls\u001b[0m\u001b[0;34m.\u001b[0m\u001b[0m_default_xunit\u001b[0m\u001b[0;34m\u001b[0m\u001b[0m\n\u001b[0;32m--> 139\u001b[0;31m             \u001b[0mnew\u001b[0m\u001b[0;34m.\u001b[0m\u001b[0mxindex\u001b[0m \u001b[0;34m=\u001b[0m \u001b[0mQuantity\u001b[0m\u001b[0;34m(\u001b[0m\u001b[0mxindex\u001b[0m\u001b[0;34m,\u001b[0m \u001b[0munit\u001b[0m\u001b[0;34m=\u001b[0m\u001b[0mxunit\u001b[0m\u001b[0;34m)\u001b[0m\u001b[0;34m\u001b[0m\u001b[0m\n\u001b[0m\u001b[1;32m    140\u001b[0m         \u001b[0;31m# or from x0 and dx\u001b[0m\u001b[0;34m\u001b[0m\u001b[0;34m\u001b[0m\u001b[0m\n\u001b[1;32m    141\u001b[0m         \u001b[0;32melse\u001b[0m\u001b[0;34m:\u001b[0m\u001b[0;34m\u001b[0m\u001b[0m\n",
      "\u001b[0;32m~/env/lib/python3.6/site-packages/gwpy/types/series.py\u001b[0m in \u001b[0;36mxindex\u001b[0;34m(self, index)\u001b[0m\n\u001b[1;32m    275\u001b[0m                 \u001b[0munit\u001b[0m \u001b[0;34m=\u001b[0m \u001b[0mself\u001b[0m\u001b[0;34m.\u001b[0m\u001b[0m_default_xunit\u001b[0m\u001b[0;34m\u001b[0m\u001b[0m\n\u001b[1;32m    276\u001b[0m             \u001b[0mindex\u001b[0m \u001b[0;34m=\u001b[0m \u001b[0mIndex\u001b[0m\u001b[0;34m(\u001b[0m\u001b[0mindex\u001b[0m\u001b[0;34m,\u001b[0m \u001b[0munit\u001b[0m\u001b[0;34m=\u001b[0m\u001b[0munit\u001b[0m\u001b[0;34m,\u001b[0m \u001b[0mcopy\u001b[0m\u001b[0;34m=\u001b[0m\u001b[0;32mFalse\u001b[0m\u001b[0;34m)\u001b[0m\u001b[0;34m\u001b[0m\u001b[0m\n\u001b[0;32m--> 277\u001b[0;31m         \u001b[0mself\u001b[0m\u001b[0;34m.\u001b[0m\u001b[0mx0\u001b[0m \u001b[0;34m=\u001b[0m \u001b[0mindex\u001b[0m\u001b[0;34m[\u001b[0m\u001b[0;36m0\u001b[0m\u001b[0;34m]\u001b[0m\u001b[0;34m\u001b[0m\u001b[0m\n\u001b[0m\u001b[1;32m    278\u001b[0m         \u001b[0;32mif\u001b[0m \u001b[0mindex\u001b[0m\u001b[0;34m.\u001b[0m\u001b[0mregular\u001b[0m\u001b[0;34m:\u001b[0m\u001b[0;34m\u001b[0m\u001b[0m\n\u001b[1;32m    279\u001b[0m             \u001b[0mself\u001b[0m\u001b[0;34m.\u001b[0m\u001b[0mdx\u001b[0m \u001b[0;34m=\u001b[0m \u001b[0mindex\u001b[0m\u001b[0;34m[\u001b[0m\u001b[0;36m1\u001b[0m\u001b[0;34m]\u001b[0m \u001b[0;34m-\u001b[0m \u001b[0mindex\u001b[0m\u001b[0;34m[\u001b[0m\u001b[0;36m0\u001b[0m\u001b[0;34m]\u001b[0m\u001b[0;34m\u001b[0m\u001b[0m\n",
      "\u001b[0;32m~/env/lib/python3.6/site-packages/gwpy/types/index.py\u001b[0m in \u001b[0;36m__getitem__\u001b[0;34m(self, key)\u001b[0m\n\u001b[1;32m     50\u001b[0m \u001b[0;34m\u001b[0m\u001b[0m\n\u001b[1;32m     51\u001b[0m     \u001b[0;32mdef\u001b[0m \u001b[0m__getitem__\u001b[0m\u001b[0;34m(\u001b[0m\u001b[0mself\u001b[0m\u001b[0;34m,\u001b[0m \u001b[0mkey\u001b[0m\u001b[0;34m)\u001b[0m\u001b[0;34m:\u001b[0m\u001b[0;34m\u001b[0m\u001b[0m\n\u001b[0;32m---> 52\u001b[0;31m         \u001b[0mitem\u001b[0m \u001b[0;34m=\u001b[0m \u001b[0msuper\u001b[0m\u001b[0;34m(\u001b[0m\u001b[0mIndex\u001b[0m\u001b[0;34m,\u001b[0m \u001b[0mself\u001b[0m\u001b[0;34m)\u001b[0m\u001b[0;34m.\u001b[0m\u001b[0m__getitem__\u001b[0m\u001b[0;34m(\u001b[0m\u001b[0mkey\u001b[0m\u001b[0;34m)\u001b[0m\u001b[0;34m\u001b[0m\u001b[0m\n\u001b[0m\u001b[1;32m     53\u001b[0m         \u001b[0;32mif\u001b[0m \u001b[0mitem\u001b[0m\u001b[0;34m.\u001b[0m\u001b[0misscalar\u001b[0m\u001b[0;34m:\u001b[0m\u001b[0;34m\u001b[0m\u001b[0m\n\u001b[1;32m     54\u001b[0m             \u001b[0;32mreturn\u001b[0m \u001b[0mitem\u001b[0m\u001b[0;34m.\u001b[0m\u001b[0mview\u001b[0m\u001b[0;34m(\u001b[0m\u001b[0mQuantity\u001b[0m\u001b[0;34m)\u001b[0m\u001b[0;34m\u001b[0m\u001b[0m\n",
      "\u001b[0;32m~/env/lib/python3.6/site-packages/astropy/units/quantity.py\u001b[0m in \u001b[0;36m__getitem__\u001b[0;34m(self, key)\u001b[0m\n\u001b[1;32m   1033\u001b[0m     \u001b[0;32mdef\u001b[0m \u001b[0m__getitem__\u001b[0m\u001b[0;34m(\u001b[0m\u001b[0mself\u001b[0m\u001b[0;34m,\u001b[0m \u001b[0mkey\u001b[0m\u001b[0;34m)\u001b[0m\u001b[0;34m:\u001b[0m\u001b[0;34m\u001b[0m\u001b[0m\n\u001b[1;32m   1034\u001b[0m         \u001b[0;32mtry\u001b[0m\u001b[0;34m:\u001b[0m\u001b[0;34m\u001b[0m\u001b[0m\n\u001b[0;32m-> 1035\u001b[0;31m             \u001b[0mout\u001b[0m \u001b[0;34m=\u001b[0m \u001b[0msuper\u001b[0m\u001b[0;34m(\u001b[0m\u001b[0;34m)\u001b[0m\u001b[0;34m.\u001b[0m\u001b[0m__getitem__\u001b[0m\u001b[0;34m(\u001b[0m\u001b[0mkey\u001b[0m\u001b[0;34m)\u001b[0m\u001b[0;34m\u001b[0m\u001b[0m\n\u001b[0m\u001b[1;32m   1036\u001b[0m         \u001b[0;32mexcept\u001b[0m \u001b[0mIndexError\u001b[0m\u001b[0;34m:\u001b[0m\u001b[0;34m\u001b[0m\u001b[0m\n\u001b[1;32m   1037\u001b[0m             \u001b[0;31m# We want zero-dimensional Quantity objects to behave like scalars,\u001b[0m\u001b[0;34m\u001b[0m\u001b[0;34m\u001b[0m\u001b[0m\n",
      "\u001b[0;31mIndexError\u001b[0m: index 0 is out of bounds for axis 0 with size 0"
     ]
    },
    {
     "data": {
      "image/png": "[encoded data removed]",
      "text/plain": [
       "<Figure size 432x288 with 1 Axes>"
      ]
     },
     "metadata": {
      "needs_background": "light"
     },
     "output_type": "display_data"
    }
   ],
   "source": [
    "data_generator_cbc(parameters=['cbc_02','real',50]        \n",
    "                       ,length=4           \n",
    "                       ,fs=2048               \n",
    "                       ,size=10             \n",
    "                       ,detectors='HLV'  \n",
    "                       ,spec=True\n",
    "                       ,phase=False\n",
    "                       ,res=128\n",
    "                       ,noise_file=['20170731' , 'SEG2_1185522400_26060s.txt'] \n",
    "                       ,t=32             \n",
    "                       ,batch_size=1\n",
    "                       ,starting_point=16348+128\n",
    "                       ,name=''          \n",
    "                       ,destination_path='/home/vasileios.skliris/EMILY/datasets/'\n",
    "                       ,demo=True)"
   ]
  },
  {
   "cell_type": "code",
   "execution_count": 25,
   "metadata": {},
   "outputs": [],
   "source": [
    "V=load_noise(2048,'20170728','L', 'SEG1_1185286802_8801s.txt')"
   ]
  },
  {
   "cell_type": "code",
   "execution_count": 41,
   "metadata": {},
   "outputs": [
    {
     "name": "stdout",
     "output_type": "stream",
     "text": [
      "124928\n",
      "133120\n"
     ]
    }
   ],
   "source": [
    "%matplotlib inline\n",
    "sp=8740\n",
    "\n",
    "l=65\n",
    "\n",
    "print(len(V[sp*2048:(sp+l)*2048]))\n",
    "print(l*2048)\n"
   ]
  },
  {
   "cell_type": "code",
   "execution_count": 17,
   "metadata": {},
   "outputs": [
    {
     "data": {
      "text/plain": [
       "28.0"
      ]
     },
     "execution_count": 17,
     "metadata": {},
     "output_type": "execute_result"
    }
   ],
   "source": [
    "57344/2048"
   ]
  },
  {
   "cell_type": "code",
   "execution_count": null,
   "metadata": {},
   "outputs": [],
   "source": []
  }
 ],
 "metadata": {
  "kernelspec": {
   "display_name": "xconda",
   "language": "python",
   "name": "xconda"
  },
  "language_info": {
   "codemirror_mode": {
    "name": "ipython",
    "version": 3
   },
   "file_extension": ".py",
   "mimetype": "text/x-python",
   "name": "python",
   "nbconvert_exporter": "python",
   "pygments_lexer": "ipython3",
   "version": "3.6.8"
  }
 },
 "nbformat": 4,
 "nbformat_minor": 2
}
